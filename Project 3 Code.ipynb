{
 "cells": [
  {
   "cell_type": "markdown",
   "id": "f63efdf8-005d-4932-8d51-5f66b5176903",
   "metadata": {},
   "source": [
    "# Project 3 Code"
   ]
  },
  {
   "cell_type": "markdown",
   "id": "1bca9d62-accd-424c-b76e-52959042d3d9",
   "metadata": {},
   "source": [
    "## Importing Datasets"
   ]
  },
  {
   "cell_type": "code",
   "execution_count": null,
   "id": "8ee66551-ccb7-41c8-a799-a7f5feef7e96",
   "metadata": {},
   "outputs": [],
   "source": []
  }
 ],
 "metadata": {
  "kernelspec": {
   "display_name": "Python 3 (ipykernel)",
   "language": "python",
   "name": "python3"
  },
  "language_info": {
   "codemirror_mode": {
    "name": "ipython",
    "version": 3
   },
   "file_extension": ".py",
   "mimetype": "text/x-python",
   "name": "python",
   "nbconvert_exporter": "python",
   "pygments_lexer": "ipython3",
   "version": "3.12.4"
  }
 },
 "nbformat": 4,
 "nbformat_minor": 5
}
